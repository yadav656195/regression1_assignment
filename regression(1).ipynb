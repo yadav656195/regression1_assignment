{
 "cells": [
  {
   "cell_type": "code",
   "execution_count": null,
   "id": "e8a08ca1-41e3-42e5-991a-419a080b2971",
   "metadata": {},
   "outputs": [],
   "source": [
    "Q1. Explain the difference between simple linear regression and multiple linear regression. Provide an\n",
    "example of each.\n",
    "\n",
    "Simple Linear Regression:\n",
    "\n",
    "In simple linear regression, there is only one independent variable (predictor) and one dependent variable (response).\n",
    "The relationship between the variables is assumed to be linear.\n",
    "Example: Predicting a student's exam score (dependent variable) based on the number of hours they studied (independent variable).\n",
    "Multiple Linear Regression:\n",
    "\n",
    "In multiple linear regression, there are multiple independent variables influencing a single dependent variable.\n",
    "The relationship is modeled as a linear combination of the independent variables.\n",
    "Example: Predicting house price (dependent variable) based on factors like square footage, number of bedrooms, and location.\n"
   ]
  },
  {
   "cell_type": "code",
   "execution_count": null,
   "id": "5e29120f-bec4-4a01-9fcf-d6abec241eee",
   "metadata": {},
   "outputs": [],
   "source": [
    "Q2. Discuss the assumptions of linear regression. How can you check whether these assumptions hold in\n",
    "a given dataset?\n",
    "Linearity: The relationship between the independent and dependent variables is linear.\n",
    "Independence: Residuals (the differences between observed and predicted values) are independent.\n",
    "Homoscedasticity: Residuals have constant variance across all levels of the independent variables.\n",
    "Normality: Residuals are approximately normally distributed.\n",
    "No or little multicollinearity: Independent variables are not highly correlated.\n",
    "To check these assumptions:\n",
    "\n",
    "Plot residuals against predicted values to check for homoscedasticity.\n",
    "Use a Q-Q plot to assess normality of residuals.\n",
    "Check correlation matrix for multicollinearity."
   ]
  },
  {
   "cell_type": "code",
   "execution_count": null,
   "id": "b47d1884-c735-4ab0-ac2f-1623c028012b",
   "metadata": {},
   "outputs": [],
   "source": [
    "Q3. How do you interpret the slope and intercept in a linear regression model? Provide an example using\n",
    "a real-world scenario.\n",
    ". Interpretation of Slope and Intercept:\n",
    "\n",
    "Slope (Coefficient): It represents the change in the dependent variable for a one-unit change in the independent variable,\n",
    "holding other variables constant.\n",
    "Intercept: It is the value of the dependent variable when all independent variables are zero.\n",
    "Example: In a salary prediction model, the slope for years of experience might be 2000, indicating that for each additional \n",
    "year of experience, the salary is expected to increase by $2000. The intercept might be $30,000, representing the expected\n",
    "salary for someone with zero years of experience.\n"
   ]
  },
  {
   "cell_type": "code",
   "execution_count": null,
   "id": "caf93f19-f938-477a-9878-a683d77887cc",
   "metadata": {},
   "outputs": [],
   "source": [
    "Q4. Explain the concept of gradient descent. How is it used in machine learning?\n",
    "Concept: Gradient descent is an optimization algorithm used to minimize the cost (or loss) function in machine learning.\n",
    "Usage: It iteratively adjusts model parameters in the direction of the steepest decrease in the cost function, aiming to reach the minimum."
   ]
  },
  {
   "cell_type": "code",
   "execution_count": null,
   "id": "484d902c-48db-4604-a49b-7e90e9e412ff",
   "metadata": {},
   "outputs": [],
   "source": [
    "Q5. Describe the multiple linear regression model. How does it differ from simple linear regression?\n",
    "Definition: A linear regression model with more than one independent variable"
   ]
  },
  {
   "cell_type": "code",
   "execution_count": null,
   "id": "a2d0fb69-3022-478b-9491-857f70788101",
   "metadata": {},
   "outputs": [],
   "source": [
    "Q6. Explain the concept of multicollinearity in multiple linear regression. How can you detect and\n",
    "address this issue?\n",
    "Concept: It occurs when independent variables in a regression model are highly correlated, leading to difficulties in distinguishing their individual effects.\n",
    "Detection: Calculate the variance inflation factor (VIF). High VIF values indicate multicollinearity.\n",
    "Addressing: Remove one of the correlated variables or use dimensionality reduction techniques."
   ]
  },
  {
   "cell_type": "code",
   "execution_count": null,
   "id": "6ab9c171-a8a3-46f8-8c1d-164a099e0eb8",
   "metadata": {},
   "outputs": [],
   "source": [
    "Q7. Describe the polynomial regression model. How is it different from linear regression?\n",
    "Definition: A regression model where the relationship between the independent and dependent variables is modeled as an \n",
    "�\n",
    "n-th degree polynomial.\n"
   ]
  },
  {
   "cell_type": "code",
   "execution_count": null,
   "id": "342dff31-004f-4008-82ef-aecacce5eb4f",
   "metadata": {},
   "outputs": [],
   "source": [
    "Q8. What are the advantages and disadvantages of polynomial regression compared to linear\n",
    "regression? In what situations would you prefer to use polynomial regression?\n",
    "Advantages:\n",
    "\n",
    "Can capture non-linear relationships.\n",
    "Flexible in fitting complex patterns.\n",
    "Disadvantages:\n",
    "\n",
    "Prone to overfitting, especially with higher-degree polynomials.\n",
    "Interpretability may be challenging.\n",
    "When to use Polynomial Regression:\n",
    "\n",
    "When the relationship between variables is non-linear.\n",
    "Use caution with high-degree polynomials; they may overfit noisy data.\n",
    "\n",
    "\n",
    "\n",
    "\n"
   ]
  }
 ],
 "metadata": {
  "kernelspec": {
   "display_name": "Python 3 (ipykernel)",
   "language": "python",
   "name": "python3"
  },
  "language_info": {
   "codemirror_mode": {
    "name": "ipython",
    "version": 3
   },
   "file_extension": ".py",
   "mimetype": "text/x-python",
   "name": "python",
   "nbconvert_exporter": "python",
   "pygments_lexer": "ipython3",
   "version": "3.10.8"
  }
 },
 "nbformat": 4,
 "nbformat_minor": 5
}
